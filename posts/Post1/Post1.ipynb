{
 "cells": [
  {
   "cell_type": "raw",
   "id": "9ddaa72a-24c9-43ba-9090-3ae46fa9b14b",
   "metadata": {},
   "source": [
    "---\n",
    "title: \"A test post\"\n",
    "description: \"An example post from a Jupyter notebook\"\n",
    "author: \"An LLM User\"\n",
    "date: \"2/2/2024\"\n",
    "categories:\n",
    "  - LLMs\n",
    "  - prompting\n",
    "  - logic\n",
    "---"
   ]
  },
  {
   "cell_type": "raw",
   "id": "c4c9c794-e729-47d2-aa9f-397dc6b87f05",
   "metadata": {},
   "source": [
    "POST 1"
   ]
  },
  {
   "cell_type": "markdown",
   "id": "2fba3cb3-7ac3-48d1-8e7a-4187e5652baf",
   "metadata": {},
   "source": [
    "hello "
   ]
  },
  {
   "cell_type": "code",
   "execution_count": null,
   "id": "70cbbb60-55bc-46b7-9c4b-922870cdcb8d",
   "metadata": {},
   "outputs": [],
   "source": []
  }
 ],
 "metadata": {
  "kernelspec": {
   "display_name": "Python 3-12 (COMM4190)",
   "language": "python",
   "name": "python3-12_comm4190"
  },
  "language_info": {
   "codemirror_mode": {
    "name": "ipython",
    "version": 3
   },
   "file_extension": ".py",
   "mimetype": "text/x-python",
   "name": "python",
   "nbconvert_exporter": "python",
   "pygments_lexer": "ipython3",
   "version": "3.12.8"
  }
 },
 "nbformat": 4,
 "nbformat_minor": 5
}
